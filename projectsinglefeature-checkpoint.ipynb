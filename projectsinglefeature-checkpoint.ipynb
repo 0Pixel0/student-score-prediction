{
 "cells": [
  {
   "cell_type": "code",
   "execution_count": 39,
   "id": "breeding-somalia",
   "metadata": {},
   "outputs": [],
   "source": [
    "import pandas as pd\n",
    "import numpy as np\n",
    "import matplotlib as plt \n",
    "from sklearn import linear_model,datasets\n",
    "from sklearn.metrics import mean_absolute_error,mean_squared_error,mean_absolute_percentage_error\n",
    "import matplotlib.pyplot as plt\n",
    "#this allows zooming in matplot lib graphs specially for notebooks\n",
    "%matplotlib inline\n",
    "import mpld3\n",
    "mpld3.enable_notebook()"
   ]
  },
  {
   "cell_type": "code",
   "execution_count": 40,
   "id": "temporal-morning",
   "metadata": {},
   "outputs": [],
   "source": [
    "df=pd.read_excel(r'math_test.xlsx')"
   ]
  },
  {
   "cell_type": "code",
   "execution_count": 41,
   "id": "cultural-powder",
   "metadata": {},
   "outputs": [
    {
     "data": {
      "text/html": [
       "<div>\n",
       "<style scoped>\n",
       "    .dataframe tbody tr th:only-of-type {\n",
       "        vertical-align: middle;\n",
       "    }\n",
       "\n",
       "    .dataframe tbody tr th {\n",
       "        vertical-align: top;\n",
       "    }\n",
       "\n",
       "    .dataframe thead th {\n",
       "        text-align: right;\n",
       "    }\n",
       "</style>\n",
       "<table border=\"1\" class=\"dataframe\">\n",
       "  <thead>\n",
       "    <tr style=\"text-align: right;\">\n",
       "      <th></th>\n",
       "      <th>Class</th>\n",
       "      <th>mock1</th>\n",
       "      <th>mock2</th>\n",
       "      <th>mock3</th>\n",
       "      <th>mock4</th>\n",
       "      <th>Final_marks</th>\n",
       "    </tr>\n",
       "  </thead>\n",
       "  <tbody>\n",
       "    <tr>\n",
       "      <th>0</th>\n",
       "      <td>12</td>\n",
       "      <td>8</td>\n",
       "      <td>14</td>\n",
       "      <td>15</td>\n",
       "      <td>5</td>\n",
       "      <td>6</td>\n",
       "    </tr>\n",
       "    <tr>\n",
       "      <th>1</th>\n",
       "      <td>11</td>\n",
       "      <td>16</td>\n",
       "      <td>9</td>\n",
       "      <td>3</td>\n",
       "      <td>20</td>\n",
       "      <td>3</td>\n",
       "    </tr>\n",
       "    <tr>\n",
       "      <th>2</th>\n",
       "      <td>11</td>\n",
       "      <td>13</td>\n",
       "      <td>19</td>\n",
       "      <td>12</td>\n",
       "      <td>16</td>\n",
       "      <td>18</td>\n",
       "    </tr>\n",
       "    <tr>\n",
       "      <th>3</th>\n",
       "      <td>12</td>\n",
       "      <td>14</td>\n",
       "      <td>20</td>\n",
       "      <td>20</td>\n",
       "      <td>20</td>\n",
       "      <td>19</td>\n",
       "    </tr>\n",
       "    <tr>\n",
       "      <th>4</th>\n",
       "      <td>12</td>\n",
       "      <td>3</td>\n",
       "      <td>7</td>\n",
       "      <td>19</td>\n",
       "      <td>8</td>\n",
       "      <td>8</td>\n",
       "    </tr>\n",
       "    <tr>\n",
       "      <th>...</th>\n",
       "      <td>...</td>\n",
       "      <td>...</td>\n",
       "      <td>...</td>\n",
       "      <td>...</td>\n",
       "      <td>...</td>\n",
       "      <td>...</td>\n",
       "    </tr>\n",
       "    <tr>\n",
       "      <th>505</th>\n",
       "      <td>12</td>\n",
       "      <td>3</td>\n",
       "      <td>9</td>\n",
       "      <td>18</td>\n",
       "      <td>6</td>\n",
       "      <td>15</td>\n",
       "    </tr>\n",
       "    <tr>\n",
       "      <th>506</th>\n",
       "      <td>11</td>\n",
       "      <td>5</td>\n",
       "      <td>11</td>\n",
       "      <td>2</td>\n",
       "      <td>14</td>\n",
       "      <td>8</td>\n",
       "    </tr>\n",
       "    <tr>\n",
       "      <th>507</th>\n",
       "      <td>11</td>\n",
       "      <td>10</td>\n",
       "      <td>10</td>\n",
       "      <td>14</td>\n",
       "      <td>11</td>\n",
       "      <td>1</td>\n",
       "    </tr>\n",
       "    <tr>\n",
       "      <th>508</th>\n",
       "      <td>12</td>\n",
       "      <td>4</td>\n",
       "      <td>8</td>\n",
       "      <td>11</td>\n",
       "      <td>18</td>\n",
       "      <td>3</td>\n",
       "    </tr>\n",
       "    <tr>\n",
       "      <th>509</th>\n",
       "      <td>12</td>\n",
       "      <td>20</td>\n",
       "      <td>20</td>\n",
       "      <td>15</td>\n",
       "      <td>17</td>\n",
       "      <td>19</td>\n",
       "    </tr>\n",
       "  </tbody>\n",
       "</table>\n",
       "<p>510 rows × 6 columns</p>\n",
       "</div>"
      ],
      "text/plain": [
       "     Class  mock1  mock2  mock3  mock4  Final_marks\n",
       "0       12      8     14     15      5            6\n",
       "1       11     16      9      3     20            3\n",
       "2       11     13     19     12     16           18\n",
       "3       12     14     20     20     20           19\n",
       "4       12      3      7     19      8            8\n",
       "..     ...    ...    ...    ...    ...          ...\n",
       "505     12      3      9     18      6           15\n",
       "506     11      5     11      2     14            8\n",
       "507     11     10     10     14     11            1\n",
       "508     12      4      8     11     18            3\n",
       "509     12     20     20     15     17           19\n",
       "\n",
       "[510 rows x 6 columns]"
      ]
     },
     "execution_count": 41,
     "metadata": {},
     "output_type": "execute_result"
    }
   ],
   "source": [
    "df"
   ]
  },
  {
   "cell_type": "code",
   "execution_count": 42,
   "id": "reduced-satellite",
   "metadata": {},
   "outputs": [
    {
     "data": {
      "text/plain": [
       "Index(['Class', 'mock1', 'mock2', 'mock3', 'mock4', 'Final_marks'], dtype='object')"
      ]
     },
     "execution_count": 42,
     "metadata": {},
     "output_type": "execute_result"
    }
   ],
   "source": [
    "df.keys()"
   ]
  },
  {
   "cell_type": "code",
   "execution_count": 43,
   "id": "higher-vegetarian",
   "metadata": {},
   "outputs": [
    {
     "data": {
      "text/html": [
       "<div>\n",
       "<style scoped>\n",
       "    .dataframe tbody tr th:only-of-type {\n",
       "        vertical-align: middle;\n",
       "    }\n",
       "\n",
       "    .dataframe tbody tr th {\n",
       "        vertical-align: top;\n",
       "    }\n",
       "\n",
       "    .dataframe thead th {\n",
       "        text-align: right;\n",
       "    }\n",
       "</style>\n",
       "<table border=\"1\" class=\"dataframe\">\n",
       "  <thead>\n",
       "    <tr style=\"text-align: right;\">\n",
       "      <th></th>\n",
       "      <th>mock1</th>\n",
       "    </tr>\n",
       "  </thead>\n",
       "  <tbody>\n",
       "    <tr>\n",
       "      <th>0</th>\n",
       "      <td>8</td>\n",
       "    </tr>\n",
       "    <tr>\n",
       "      <th>1</th>\n",
       "      <td>16</td>\n",
       "    </tr>\n",
       "    <tr>\n",
       "      <th>2</th>\n",
       "      <td>13</td>\n",
       "    </tr>\n",
       "    <tr>\n",
       "      <th>3</th>\n",
       "      <td>14</td>\n",
       "    </tr>\n",
       "    <tr>\n",
       "      <th>4</th>\n",
       "      <td>3</td>\n",
       "    </tr>\n",
       "    <tr>\n",
       "      <th>...</th>\n",
       "      <td>...</td>\n",
       "    </tr>\n",
       "    <tr>\n",
       "      <th>505</th>\n",
       "      <td>3</td>\n",
       "    </tr>\n",
       "    <tr>\n",
       "      <th>506</th>\n",
       "      <td>5</td>\n",
       "    </tr>\n",
       "    <tr>\n",
       "      <th>507</th>\n",
       "      <td>10</td>\n",
       "    </tr>\n",
       "    <tr>\n",
       "      <th>508</th>\n",
       "      <td>4</td>\n",
       "    </tr>\n",
       "    <tr>\n",
       "      <th>509</th>\n",
       "      <td>20</td>\n",
       "    </tr>\n",
       "  </tbody>\n",
       "</table>\n",
       "<p>510 rows × 1 columns</p>\n",
       "</div>"
      ],
      "text/plain": [
       "     mock1\n",
       "0        8\n",
       "1       16\n",
       "2       13\n",
       "3       14\n",
       "4        3\n",
       "..     ...\n",
       "505      3\n",
       "506      5\n",
       "507     10\n",
       "508      4\n",
       "509     20\n",
       "\n",
       "[510 rows x 1 columns]"
      ]
     },
     "execution_count": 43,
     "metadata": {},
     "output_type": "execute_result"
    }
   ],
   "source": [
    "X=df[['mock1']]\n",
    "X"
   ]
  },
  {
   "cell_type": "code",
   "execution_count": 44,
   "id": "exact-identifier",
   "metadata": {},
   "outputs": [],
   "source": [
    "X_train=X[:120]\n",
    "X_test=X[450:500]"
   ]
  },
  {
   "cell_type": "code",
   "execution_count": 45,
   "id": "crazy-telephone",
   "metadata": {},
   "outputs": [],
   "source": [
    "Y=df['Final_marks']"
   ]
  },
  {
   "cell_type": "code",
   "execution_count": 46,
   "id": "aerial-holiday",
   "metadata": {},
   "outputs": [],
   "source": [
    "Y_test=Y[450:500]\n",
    "Y_train=Y[:120]"
   ]
  },
  {
   "cell_type": "code",
   "execution_count": 47,
   "id": "confident-spray",
   "metadata": {},
   "outputs": [],
   "source": [
    "model=linear_model.LinearRegression()"
   ]
  },
  {
   "cell_type": "code",
   "execution_count": 48,
   "id": "freelance-reaction",
   "metadata": {},
   "outputs": [
    {
     "data": {
      "text/plain": [
       "LinearRegression()"
      ]
     },
     "execution_count": 48,
     "metadata": {},
     "output_type": "execute_result"
    }
   ],
   "source": [
    "model.fit(X_train,Y_train)"
   ]
  },
  {
   "cell_type": "code",
   "execution_count": 49,
   "id": "concerned-translator",
   "metadata": {},
   "outputs": [
    {
     "data": {
      "text/plain": [
       "array([[ 9.96559755],\n",
       "       [11.26636225],\n",
       "       [11.26636225],\n",
       "       [10.32035156],\n",
       "       [ 9.49259221],\n",
       "       [10.08384889],\n",
       "       [11.38461358],\n",
       "       [ 9.72909488],\n",
       "       [11.26636225],\n",
       "       [ 9.96559755],\n",
       "       [ 9.49259221],\n",
       "       [11.38461358],\n",
       "       [ 9.72909488],\n",
       "       [ 9.49259221],\n",
       "       [10.67510557],\n",
       "       [ 9.72909488],\n",
       "       [ 9.25608954],\n",
       "       [11.38461358],\n",
       "       [11.50286492],\n",
       "       [10.32035156],\n",
       "       [ 9.37434087],\n",
       "       [10.4386029 ],\n",
       "       [ 9.49259221],\n",
       "       [11.38461358],\n",
       "       [10.67510557],\n",
       "       [11.38461358],\n",
       "       [10.7933569 ],\n",
       "       [10.08384889],\n",
       "       [ 9.37434087],\n",
       "       [11.26636225],\n",
       "       [10.55685423],\n",
       "       [ 9.61084355],\n",
       "       [11.38461358],\n",
       "       [ 9.49259221],\n",
       "       [10.67510557],\n",
       "       [10.67510557],\n",
       "       [10.08384889],\n",
       "       [ 9.49259221],\n",
       "       [10.7933569 ],\n",
       "       [11.02985958],\n",
       "       [ 9.61084355],\n",
       "       [10.4386029 ],\n",
       "       [ 9.61084355],\n",
       "       [10.7933569 ],\n",
       "       [10.55685423],\n",
       "       [10.32035156],\n",
       "       [11.26636225],\n",
       "       [ 9.72909488],\n",
       "       [ 9.72909488],\n",
       "       [11.50286492]])"
      ]
     },
     "execution_count": 49,
     "metadata": {},
     "output_type": "execute_result"
    }
   ],
   "source": [
    "Y_predicted=model.predict(X_test)\n",
    "reshaped=Y_predicted.reshape(50,1)\n",
    "reshaped"
   ]
  },
  {
   "cell_type": "markdown",
   "id": "strange-french",
   "metadata": {},
   "source": [
    "**various accuracy methods**"
   ]
  },
  {
   "cell_type": "code",
   "execution_count": 50,
   "id": "metric-liechtenstein",
   "metadata": {},
   "outputs": [
    {
     "data": {
      "text/plain": [
       "34.46434637747856"
      ]
     },
     "execution_count": 50,
     "metadata": {},
     "output_type": "execute_result"
    }
   ],
   "source": [
    "mean_squared_error(Y_test,Y_predicted)"
   ]
  },
  {
   "cell_type": "code",
   "execution_count": 51,
   "id": "adverse-clear",
   "metadata": {},
   "outputs": [
    {
     "data": {
      "text/plain": [
       "0.9650263014046833"
      ]
     },
     "execution_count": 51,
     "metadata": {},
     "output_type": "execute_result"
    }
   ],
   "source": [
    "mean_absolute_percentage_error(Y_test,Y_predicted)"
   ]
  },
  {
   "cell_type": "code",
   "execution_count": 52,
   "id": "unsigned-account",
   "metadata": {},
   "outputs": [
    {
     "data": {
      "text/plain": [
       "5.086019393593906"
      ]
     },
     "execution_count": 52,
     "metadata": {},
     "output_type": "execute_result"
    }
   ],
   "source": [
    "mean_absolute_error(Y_test,Y_predicted)"
   ]
  },
  {
   "cell_type": "markdown",
   "id": "divine-newsletter",
   "metadata": {},
   "source": [
    "***WIEGHT/SLOPE***"
   ]
  },
  {
   "cell_type": "code",
   "execution_count": 53,
   "id": "answering-xerox",
   "metadata": {},
   "outputs": [
    {
     "data": {
      "text/plain": [
       "array([0.11825134])"
      ]
     },
     "execution_count": 53,
     "metadata": {},
     "output_type": "execute_result"
    }
   ],
   "source": [
    "weight=model.coef_\n",
    "weight"
   ]
  },
  {
   "cell_type": "markdown",
   "id": "obvious-combine",
   "metadata": {},
   "source": [
    "***intercept***\n"
   ]
  },
  {
   "cell_type": "code",
   "execution_count": 54,
   "id": "particular-istanbul",
   "metadata": {},
   "outputs": [
    {
     "data": {
      "text/plain": [
       "9.256089537728096"
      ]
     },
     "execution_count": 54,
     "metadata": {},
     "output_type": "execute_result"
    }
   ],
   "source": [
    "intercept=model.intercept_\n",
    "intercept"
   ]
  },
  {
   "cell_type": "markdown",
   "id": "reported-tokyo",
   "metadata": {},
   "source": [
    "***graphs***\n"
   ]
  },
  {
   "cell_type": "code",
   "execution_count": 55,
   "id": "burning-transportation",
   "metadata": {},
   "outputs": [
    {
     "data": {
      "text/plain": [
       "[<matplotlib.lines.Line2D at 0x201e396acd0>]"
      ]
     },
     "execution_count": 55,
     "metadata": {},
     "output_type": "execute_result"
    },
    {
     "data": {
      "image/png": "[encoded data removed]",
      "text/html": [
       "\n",
       "\n",
       "<style>\n",
       "\n",
       "</style>\n",
       "\n",
       "<div id=\"fig_el1131622071361508643251980947\"></div>\n",
       "<script>\n",
       "function mpld3_load_lib(url, callback){\n",
       "  var s = document.createElement('script');\n",
       "  s.src = url;\n",
       "  s.async = true;\n",
       "  s.onreadystatechange = s.onload = callback;\n",
       "  s.onerror = function(){console.warn(\"failed to load library \" + url);};\n",
       "  document.getElementsByTagName(\"head\")[0].appendChild(s);\n",
       "}\n",
       "\n",
       "if(typeof(mpld3) !== \"undefined\" && mpld3._mpld3IsLoaded){\n",
       "   // already loaded: just create the figure\n",
       "   !function(mpld3){\n",
       "       \n",
       "       mpld3.draw_figure(\"fig_el1131622071361508643251980947\", {\"width\": 432.0, \"height\": 288.0, \"axes\": [{\"bbox\": [0.125, 0.125, 0.775, 0.755], \"xlim\": [-0.9500000000000001, 19.95], \"ylim\": [1.1, 20.9], \"xdomain\": [-0.9500000000000001, 19.95], \"ydomain\": [1.1, 20.9], \"xscale\": \"linear\", \"yscale\": \"linear\", \"axes\": [{\"position\": \"bottom\", \"nticks\": 10, \"tickvalues\": null, \"tickformat_formatter\": \"\", \"tickformat\": null, \"scale\": \"linear\", \"fontsize\": 10.0, \"grid\": {\"gridOn\": false}, \"visible\": true}, {\"position\": \"left\", \"nticks\": 10, \"tickvalues\": null, \"tickformat_formatter\": \"\", \"tickformat\": null, \"scale\": \"linear\", \"fontsize\": 10.0, \"grid\": {\"gridOn\": false}, \"visible\": true}], \"axesbg\": \"#FFFFFF\", \"axesbgalpha\": null, \"zoomable\": true, \"id\": \"el113162207136188208\", \"lines\": [{\"data\": \"data01\", \"xindex\": 0, \"yindex\": 1, \"coordinates\": \"data\", \"id\": \"el113162207136525520\", \"color\": \"#1F77B4\", \"linewidth\": 1.5, \"dasharray\": \"none\", \"alpha\": 1, \"zorder\": 2, \"drawstyle\": \"default\"}], \"paths\": [], \"markers\": [], \"texts\": [], \"collections\": [{\"offsets\": \"data01\", \"xindex\": 0, \"yindex\": 2, \"paths\": [[[[0.0, -0.5], [0.13260155, -0.5], [0.25978993539242673, -0.44731684579412084], [0.3535533905932738, -0.3535533905932738], [0.44731684579412084, -0.25978993539242673], [0.5, -0.13260155], [0.5, 0.0], [0.5, 0.13260155], [0.44731684579412084, 0.25978993539242673], [0.3535533905932738, 0.3535533905932738], [0.25978993539242673, 0.44731684579412084], [0.13260155, 0.5], [0.0, 0.5], [-0.13260155, 0.5], [-0.25978993539242673, 0.44731684579412084], [-0.3535533905932738, 0.3535533905932738], [-0.44731684579412084, 0.25978993539242673], [-0.5, 0.13260155], [-0.5, 0.0], [-0.5, -0.13260155], [-0.44731684579412084, -0.25978993539242673], [-0.3535533905932738, -0.3535533905932738], [-0.25978993539242673, -0.44731684579412084], [-0.13260155, -0.5], [0.0, -0.5]], [\"M\", \"C\", \"C\", \"C\", \"C\", \"C\", \"C\", \"C\", \"C\", \"Z\"]]], \"pathtransforms\": [[6.0, 0.0, 0.0, 6.0, 0.0, 0.0]], \"alphas\": [null], \"edgecolors\": [\"#1F77B4\"], \"facecolors\": [\"#1F77B4\"], \"edgewidths\": [1.0], \"offsetcoordinates\": \"data\", \"pathcoordinates\": \"display\", \"zorder\": 1, \"id\": \"el113162207136524128\"}], \"images\": [], \"sharex\": [], \"sharey\": []}], \"data\": {\"data01\": [[6.0, 9.965597552666669, 3.0], [17.0, 11.26636224672072, 2.0], [17.0, 11.26636224672072, 3.0], [9.0, 10.320351560135956, 4.0], [2.0, 9.492592209374287, 7.0], [7.0, 10.083848888489765, 16.0], [18.0, 11.384613582543814, 11.0], [4.0, 9.729094881020478, 17.0], [17.0, 11.26636224672072, 4.0], [6.0, 9.965597552666669, 16.0], [2.0, 9.492592209374287, 8.0], [18.0, 11.384613582543814, 9.0], [4.0, 9.729094881020478, 16.0], [2.0, 9.492592209374287, 5.0], [12.0, 10.675105567605241, 8.0], [4.0, 9.729094881020478, 14.0], [0.0, 9.256089537728096, 9.0], [18.0, 11.384613582543814, 2.0], [19.0, 11.50286491836691, 3.0], [9.0, 10.320351560135956, 6.0], [1.0, 9.374340873551192, 9.0], [10.0, 10.43860289595905, 3.0], [2.0, 9.492592209374287, 15.0], [18.0, 11.384613582543814, 2.0], [12.0, 10.675105567605241, 9.0], [18.0, 11.384613582543814, 10.0], [13.0, 10.793356903428338, 7.0], [7.0, 10.083848888489765, 8.0], [1.0, 9.374340873551192, 20.0], [17.0, 11.26636224672072, 11.0], [11.0, 10.556854231782147, 7.0], [3.0, 9.610843545197383, 13.0], [18.0, 11.384613582543814, 7.0], [2.0, 9.492592209374287, 19.0], [12.0, 10.675105567605241, 17.0], [12.0, 10.675105567605241, 7.0], [7.0, 10.083848888489765, 9.0], [2.0, 9.492592209374287, 4.0], [13.0, 10.793356903428338, 11.0], [15.0, 11.029859575074529, 20.0], [3.0, 9.610843545197383, 17.0], [10.0, 10.43860289595905, 5.0], [3.0, 9.610843545197383, 19.0], [13.0, 10.793356903428338, 4.0], [11.0, 10.556854231782147, 8.0], [9.0, 10.320351560135956, 19.0], [17.0, 11.26636224672072, 15.0], [4.0, 9.729094881020478, 3.0], [4.0, 9.729094881020478, 6.0], [19.0, 11.50286491836691, 5.0]]}, \"id\": \"el113162207136150864\", \"plugins\": [{\"type\": \"reset\"}, {\"type\": \"zoom\", \"button\": true, \"enabled\": false}, {\"type\": \"boxzoom\", \"button\": true, \"enabled\": false}]});\n",
       "   }(mpld3);\n",
       "}else if(typeof define === \"function\" && define.amd){\n",
       "   // require.js is available: use it to load d3/mpld3\n",
       "   require.config({paths: {d3: \"https://d3js.org/d3.v5\"}});\n",
       "   require([\"d3\"], function(d3){\n",
       "      window.d3 = d3;\n",
       "      mpld3_load_lib(\"https://mpld3.github.io/js/mpld3.v0.5.2.js\", function(){\n",
       "         \n",
       "         mpld3.draw_figure(\"fig_el1131622071361508643251980947\", {\"width\": 432.0, \"height\": 288.0, \"axes\": [{\"bbox\": [0.125, 0.125, 0.775, 0.755], \"xlim\": [-0.9500000000000001, 19.95], \"ylim\": [1.1, 20.9], \"xdomain\": [-0.9500000000000001, 19.95], \"ydomain\": [1.1, 20.9], \"xscale\": \"linear\", \"yscale\": \"linear\", \"axes\": [{\"position\": \"bottom\", \"nticks\": 10, \"tickvalues\": null, \"tickformat_formatter\": \"\", \"tickformat\": null, \"scale\": \"linear\", \"fontsize\": 10.0, \"grid\": {\"gridOn\": false}, \"visible\": true}, {\"position\": \"left\", \"nticks\": 10, \"tickvalues\": null, \"tickformat_formatter\": \"\", \"tickformat\": null, \"scale\": \"linear\", \"fontsize\": 10.0, \"grid\": {\"gridOn\": false}, \"visible\": true}], \"axesbg\": \"#FFFFFF\", \"axesbgalpha\": null, \"zoomable\": true, \"id\": \"el113162207136188208\", \"lines\": [{\"data\": \"data01\", \"xindex\": 0, \"yindex\": 1, \"coordinates\": \"data\", \"id\": \"el113162207136525520\", \"color\": \"#1F77B4\", \"linewidth\": 1.5, \"dasharray\": \"none\", \"alpha\": 1, \"zorder\": 2, \"drawstyle\": \"default\"}], \"paths\": [], \"markers\": [], \"texts\": [], \"collections\": [{\"offsets\": \"data01\", \"xindex\": 0, \"yindex\": 2, \"paths\": [[[[0.0, -0.5], [0.13260155, -0.5], [0.25978993539242673, -0.44731684579412084], [0.3535533905932738, -0.3535533905932738], [0.44731684579412084, -0.25978993539242673], [0.5, -0.13260155], [0.5, 0.0], [0.5, 0.13260155], [0.44731684579412084, 0.25978993539242673], [0.3535533905932738, 0.3535533905932738], [0.25978993539242673, 0.44731684579412084], [0.13260155, 0.5], [0.0, 0.5], [-0.13260155, 0.5], [-0.25978993539242673, 0.44731684579412084], [-0.3535533905932738, 0.3535533905932738], [-0.44731684579412084, 0.25978993539242673], [-0.5, 0.13260155], [-0.5, 0.0], [-0.5, -0.13260155], [-0.44731684579412084, -0.25978993539242673], [-0.3535533905932738, -0.3535533905932738], [-0.25978993539242673, -0.44731684579412084], [-0.13260155, -0.5], [0.0, -0.5]], [\"M\", \"C\", \"C\", \"C\", \"C\", \"C\", \"C\", \"C\", \"C\", \"Z\"]]], \"pathtransforms\": [[6.0, 0.0, 0.0, 6.0, 0.0, 0.0]], \"alphas\": [null], \"edgecolors\": [\"#1F77B4\"], \"facecolors\": [\"#1F77B4\"], \"edgewidths\": [1.0], \"offsetcoordinates\": \"data\", \"pathcoordinates\": \"display\", \"zorder\": 1, \"id\": \"el113162207136524128\"}], \"images\": [], \"sharex\": [], \"sharey\": []}], \"data\": {\"data01\": [[6.0, 9.965597552666669, 3.0], [17.0, 11.26636224672072, 2.0], [17.0, 11.26636224672072, 3.0], [9.0, 10.320351560135956, 4.0], [2.0, 9.492592209374287, 7.0], [7.0, 10.083848888489765, 16.0], [18.0, 11.384613582543814, 11.0], [4.0, 9.729094881020478, 17.0], [17.0, 11.26636224672072, 4.0], [6.0, 9.965597552666669, 16.0], [2.0, 9.492592209374287, 8.0], [18.0, 11.384613582543814, 9.0], [4.0, 9.729094881020478, 16.0], [2.0, 9.492592209374287, 5.0], [12.0, 10.675105567605241, 8.0], [4.0, 9.729094881020478, 14.0], [0.0, 9.256089537728096, 9.0], [18.0, 11.384613582543814, 2.0], [19.0, 11.50286491836691, 3.0], [9.0, 10.320351560135956, 6.0], [1.0, 9.374340873551192, 9.0], [10.0, 10.43860289595905, 3.0], [2.0, 9.492592209374287, 15.0], [18.0, 11.384613582543814, 2.0], [12.0, 10.675105567605241, 9.0], [18.0, 11.384613582543814, 10.0], [13.0, 10.793356903428338, 7.0], [7.0, 10.083848888489765, 8.0], [1.0, 9.374340873551192, 20.0], [17.0, 11.26636224672072, 11.0], [11.0, 10.556854231782147, 7.0], [3.0, 9.610843545197383, 13.0], [18.0, 11.384613582543814, 7.0], [2.0, 9.492592209374287, 19.0], [12.0, 10.675105567605241, 17.0], [12.0, 10.675105567605241, 7.0], [7.0, 10.083848888489765, 9.0], [2.0, 9.492592209374287, 4.0], [13.0, 10.793356903428338, 11.0], [15.0, 11.029859575074529, 20.0], [3.0, 9.610843545197383, 17.0], [10.0, 10.43860289595905, 5.0], [3.0, 9.610843545197383, 19.0], [13.0, 10.793356903428338, 4.0], [11.0, 10.556854231782147, 8.0], [9.0, 10.320351560135956, 19.0], [17.0, 11.26636224672072, 15.0], [4.0, 9.729094881020478, 3.0], [4.0, 9.729094881020478, 6.0], [19.0, 11.50286491836691, 5.0]]}, \"id\": \"el113162207136150864\", \"plugins\": [{\"type\": \"reset\"}, {\"type\": \"zoom\", \"button\": true, \"enabled\": false}, {\"type\": \"boxzoom\", \"button\": true, \"enabled\": false}]});\n",
       "      });\n",
       "    });\n",
       "}else{\n",
       "    // require.js not available: dynamically load d3 & mpld3\n",
       "    mpld3_load_lib(\"https://d3js.org/d3.v5.js\", function(){\n",
       "         mpld3_load_lib(\"https://mpld3.github.io/js/mpld3.v0.5.2.js\", function(){\n",
       "                 \n",
       "                 mpld3.draw_figure(\"fig_el1131622071361508643251980947\", {\"width\": 432.0, \"height\": 288.0, \"axes\": [{\"bbox\": [0.125, 0.125, 0.775, 0.755], \"xlim\": [-0.9500000000000001, 19.95], \"ylim\": [1.1, 20.9], \"xdomain\": [-0.9500000000000001, 19.95], \"ydomain\": [1.1, 20.9], \"xscale\": \"linear\", \"yscale\": \"linear\", \"axes\": [{\"position\": \"bottom\", \"nticks\": 10, \"tickvalues\": null, \"tickformat_formatter\": \"\", \"tickformat\": null, \"scale\": \"linear\", \"fontsize\": 10.0, \"grid\": {\"gridOn\": false}, \"visible\": true}, {\"position\": \"left\", \"nticks\": 10, \"tickvalues\": null, \"tickformat_formatter\": \"\", \"tickformat\": null, \"scale\": \"linear\", \"fontsize\": 10.0, \"grid\": {\"gridOn\": false}, \"visible\": true}], \"axesbg\": \"#FFFFFF\", \"axesbgalpha\": null, \"zoomable\": true, \"id\": \"el113162207136188208\", \"lines\": [{\"data\": \"data01\", \"xindex\": 0, \"yindex\": 1, \"coordinates\": \"data\", \"id\": \"el113162207136525520\", \"color\": \"#1F77B4\", \"linewidth\": 1.5, \"dasharray\": \"none\", \"alpha\": 1, \"zorder\": 2, \"drawstyle\": \"default\"}], \"paths\": [], \"markers\": [], \"texts\": [], \"collections\": [{\"offsets\": \"data01\", \"xindex\": 0, \"yindex\": 2, \"paths\": [[[[0.0, -0.5], [0.13260155, -0.5], [0.25978993539242673, -0.44731684579412084], [0.3535533905932738, -0.3535533905932738], [0.44731684579412084, -0.25978993539242673], [0.5, -0.13260155], [0.5, 0.0], [0.5, 0.13260155], [0.44731684579412084, 0.25978993539242673], [0.3535533905932738, 0.3535533905932738], [0.25978993539242673, 0.44731684579412084], [0.13260155, 0.5], [0.0, 0.5], [-0.13260155, 0.5], [-0.25978993539242673, 0.44731684579412084], [-0.3535533905932738, 0.3535533905932738], [-0.44731684579412084, 0.25978993539242673], [-0.5, 0.13260155], [-0.5, 0.0], [-0.5, -0.13260155], [-0.44731684579412084, -0.25978993539242673], [-0.3535533905932738, -0.3535533905932738], [-0.25978993539242673, -0.44731684579412084], [-0.13260155, -0.5], [0.0, -0.5]], [\"M\", \"C\", \"C\", \"C\", \"C\", \"C\", \"C\", \"C\", \"C\", \"Z\"]]], \"pathtransforms\": [[6.0, 0.0, 0.0, 6.0, 0.0, 0.0]], \"alphas\": [null], \"edgecolors\": [\"#1F77B4\"], \"facecolors\": [\"#1F77B4\"], \"edgewidths\": [1.0], \"offsetcoordinates\": \"data\", \"pathcoordinates\": \"display\", \"zorder\": 1, \"id\": \"el113162207136524128\"}], \"images\": [], \"sharex\": [], \"sharey\": []}], \"data\": {\"data01\": [[6.0, 9.965597552666669, 3.0], [17.0, 11.26636224672072, 2.0], [17.0, 11.26636224672072, 3.0], [9.0, 10.320351560135956, 4.0], [2.0, 9.492592209374287, 7.0], [7.0, 10.083848888489765, 16.0], [18.0, 11.384613582543814, 11.0], [4.0, 9.729094881020478, 17.0], [17.0, 11.26636224672072, 4.0], [6.0, 9.965597552666669, 16.0], [2.0, 9.492592209374287, 8.0], [18.0, 11.384613582543814, 9.0], [4.0, 9.729094881020478, 16.0], [2.0, 9.492592209374287, 5.0], [12.0, 10.675105567605241, 8.0], [4.0, 9.729094881020478, 14.0], [0.0, 9.256089537728096, 9.0], [18.0, 11.384613582543814, 2.0], [19.0, 11.50286491836691, 3.0], [9.0, 10.320351560135956, 6.0], [1.0, 9.374340873551192, 9.0], [10.0, 10.43860289595905, 3.0], [2.0, 9.492592209374287, 15.0], [18.0, 11.384613582543814, 2.0], [12.0, 10.675105567605241, 9.0], [18.0, 11.384613582543814, 10.0], [13.0, 10.793356903428338, 7.0], [7.0, 10.083848888489765, 8.0], [1.0, 9.374340873551192, 20.0], [17.0, 11.26636224672072, 11.0], [11.0, 10.556854231782147, 7.0], [3.0, 9.610843545197383, 13.0], [18.0, 11.384613582543814, 7.0], [2.0, 9.492592209374287, 19.0], [12.0, 10.675105567605241, 17.0], [12.0, 10.675105567605241, 7.0], [7.0, 10.083848888489765, 9.0], [2.0, 9.492592209374287, 4.0], [13.0, 10.793356903428338, 11.0], [15.0, 11.029859575074529, 20.0], [3.0, 9.610843545197383, 17.0], [10.0, 10.43860289595905, 5.0], [3.0, 9.610843545197383, 19.0], [13.0, 10.793356903428338, 4.0], [11.0, 10.556854231782147, 8.0], [9.0, 10.320351560135956, 19.0], [17.0, 11.26636224672072, 15.0], [4.0, 9.729094881020478, 3.0], [4.0, 9.729094881020478, 6.0], [19.0, 11.50286491836691, 5.0]]}, \"id\": \"el113162207136150864\", \"plugins\": [{\"type\": \"reset\"}, {\"type\": \"zoom\", \"button\": true, \"enabled\": false}, {\"type\": \"boxzoom\", \"button\": true, \"enabled\": false}]});\n",
       "            })\n",
       "         });\n",
       "}\n",
       "</script>"
      ],
      "text/plain": [
       "<Figure size 432x288 with 1 Axes>"
      ]
     },
     "metadata": {
      "needs_background": "light"
     },
     "output_type": "display_data"
    }
   ],
   "source": [
    "plt.scatter(X_test,Y_test)\n",
    "plt.plot(X_test,Y_predicted)"
   ]
  },
  {
   "cell_type": "code",
   "execution_count": null,
   "id": "competitive-alliance",
   "metadata": {},
   "outputs": [],
   "source": []
  }
 ],
 "metadata": {
  "kernelspec": {
   "display_name": "Python 3",
   "language": "python",
   "name": "python3"
  },
  "language_info": {
   "codemirror_mode": {
    "name": "ipython",
    "version": 3
   },
   "file_extension": ".py",
   "mimetype": "text/x-python",
   "name": "python",
   "nbconvert_exporter": "python",
   "pygments_lexer": "ipython3",
   "version": "3.9.1"
  }
 },
 "nbformat": 4,
 "nbformat_minor": 5
}
