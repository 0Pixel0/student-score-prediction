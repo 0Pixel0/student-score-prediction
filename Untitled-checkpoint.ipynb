{
 "cells": [
  {
   "cell_type": "code",
   "execution_count": 20,
   "id": "adult-corpus",
   "metadata": {},
   "outputs": [],
   "source": [
    "import pandas as pd\n",
    "import numpy as np\n",
    "import matplotlib as plt \n",
    "from sklearn import linear_model,datasets\n",
    "from sklearn.metrics import mean_squared_error\n",
    "import matplotlib.pyplot as plt"
   ]
  },
  {
   "cell_type": "code",
   "execution_count": 2,
   "id": "fantastic-execution",
   "metadata": {},
   "outputs": [
    {
     "name": "stdout",
     "output_type": "stream",
     "text": [
      "dict_keys(['data', 'target', 'frame', 'DESCR', 'feature_names', 'data_filename', 'target_filename'])\n"
     ]
    }
   ],
   "source": [
    "diab=datasets.load_diabetes()\n",
    "print(diab.keys())"
   ]
  },
  {
   "cell_type": "code",
   "execution_count": 3,
   "id": "instant-floating",
   "metadata": {},
   "outputs": [
    {
     "name": "stdout",
     "output_type": "stream",
     "text": [
      "[[ 0.03807591  0.05068012  0.06169621 ... -0.00259226  0.01990842\n",
      "  -0.01764613]\n",
      " [-0.00188202 -0.04464164 -0.05147406 ... -0.03949338 -0.06832974\n",
      "  -0.09220405]\n",
      " [ 0.08529891  0.05068012  0.04445121 ... -0.00259226  0.00286377\n",
      "  -0.02593034]\n",
      " ...\n",
      " [ 0.04170844  0.05068012 -0.01590626 ... -0.01107952 -0.04687948\n",
      "   0.01549073]\n",
      " [-0.04547248 -0.04464164  0.03906215 ...  0.02655962  0.04452837\n",
      "  -0.02593034]\n",
      " [-0.04547248 -0.04464164 -0.0730303  ... -0.03949338 -0.00421986\n",
      "   0.00306441]]\n"
     ]
    }
   ],
   "source": [
    "print(diab.data)"
   ]
  },
  {
   "cell_type": "code",
   "execution_count": 4,
   "id": "strong-bottle",
   "metadata": {},
   "outputs": [
    {
     "name": "stdout",
     "output_type": "stream",
     "text": [
      ".. _diabetes_dataset:\n",
      "\n",
      "Diabetes dataset\n",
      "----------------\n",
      "\n",
      "Ten baseline variables, age, sex, body mass index, average blood\n",
      "pressure, and six blood serum measurements were obtained for each of n =\n",
      "442 diabetes patients, as well as the response of interest, a\n",
      "quantitative measure of disease progression one year after baseline.\n",
      "\n",
      "**Data Set Characteristics:**\n",
      "\n",
      "  :Number of Instances: 442\n",
      "\n",
      "  :Number of Attributes: First 10 columns are numeric predictive values\n",
      "\n",
      "  :Target: Column 11 is a quantitative measure of disease progression one year after baseline\n",
      "\n",
      "  :Attribute Information:\n",
      "      - age     age in years\n",
      "      - sex\n",
      "      - bmi     body mass index\n",
      "      - bp      average blood pressure\n",
      "      - s1      tc, T-Cells (a type of white blood cells)\n",
      "      - s2      ldl, low-density lipoproteins\n",
      "      - s3      hdl, high-density lipoproteins\n",
      "      - s4      tch, thyroid stimulating hormone\n",
      "      - s5      ltg, lamotrigine\n",
      "      - s6      glu, blood sugar level\n",
      "\n",
      "Note: Each of these 10 feature variables have been mean centered and scaled by the standard deviation times `n_samples` (i.e. the sum of squares of each column totals 1).\n",
      "\n",
      "Source URL:\n",
      "https://www4.stat.ncsu.edu/~boos/var.select/diabetes.html\n",
      "\n",
      "For more information see:\n",
      "Bradley Efron, Trevor Hastie, Iain Johnstone and Robert Tibshirani (2004) \"Least Angle Regression,\" Annals of Statistics (with discussion), 407-499.\n",
      "(https://web.stanford.edu/~hastie/Papers/LARS/LeastAngle_2002.pdf)\n"
     ]
    }
   ],
   "source": [
    "print(diab.DESCR)"
   ]
  },
  {
   "cell_type": "code",
   "execution_count": 5,
   "id": "optional-skill",
   "metadata": {},
   "outputs": [
    {
     "name": "stdout",
     "output_type": "stream",
     "text": [
      "[[ 2.18723550e-02]\n",
      " [-2.63278347e-02]\n",
      " [-5.67061055e-03]\n",
      " [-3.66564468e-02]\n",
      " [ 2.18723550e-02]\n",
      " [-1.94420933e-02]\n",
      " [-1.59992226e-02]\n",
      " [ 6.66296740e-02]\n",
      " [-4.00993175e-02]\n",
      " [-3.32135761e-02]\n",
      " [ 8.10087222e-03]\n",
      " [-3.32135761e-02]\n",
      " [-9.11348125e-03]\n",
      " [ 8.10087222e-03]\n",
      " [-1.25563519e-02]\n",
      " [ 8.04011568e-02]\n",
      " [ 4.94153205e-02]\n",
      " [ 5.63010619e-02]\n",
      " [-3.66564468e-02]\n",
      " [-4.00993175e-02]\n",
      " [-4.35421882e-02]\n",
      " [ 1.21513083e-03]\n",
      " [-9.11348125e-03]\n",
      " [ 3.10533436e-02]\n",
      " [-2.28849640e-02]\n",
      " [-4.00993175e-02]\n",
      " [-2.63278347e-02]\n",
      " [-4.00993175e-02]\n",
      " [-7.45280244e-02]\n",
      " [ 6.31868033e-02]\n",
      " [-1.94420933e-02]\n",
      " [-8.14137658e-02]\n",
      " [ 2.87580964e-02]\n",
      " [-2.22773986e-03]\n",
      " [-5.73136710e-02]\n",
      " [-4.92803060e-02]\n",
      " [ 5.28581912e-02]\n",
      " [-5.73136710e-02]\n",
      " [ 9.76155103e-02]\n",
      " [-7.45280244e-02]\n",
      " [ 2.18723550e-02]\n",
      " [-1.08956731e-01]\n",
      " [-1.48515991e-02]\n",
      " [-7.10851537e-02]\n",
      " [ 8.10087222e-03]\n",
      " [ 3.22009671e-02]\n",
      " [-3.32135761e-02]\n",
      " [-5.73136710e-02]\n",
      " [ 1.15437429e-02]\n",
      " [-5.67061055e-03]\n",
      " [ 1.49866136e-02]\n",
      " [ 2.87580964e-02]\n",
      " [-5.67061055e-03]\n",
      " [ 7.00725447e-02]\n",
      " [ 8.10087222e-03]\n",
      " [-3.66564468e-02]\n",
      " [-2.63278347e-02]\n",
      " [-5.04279296e-02]\n",
      " [ 3.56438378e-02]\n",
      " [ 1.15437429e-02]\n",
      " [-4.00993175e-02]\n",
      " [-5.38708003e-02]\n",
      " [-4.00993175e-02]\n",
      " [-6.07565417e-02]\n",
      " [-4.00993175e-02]\n",
      " [ 5.97439326e-02]\n",
      " [-3.32135761e-02]\n",
      " [-1.71468462e-02]\n",
      " [-4.00993175e-02]\n",
      " [-5.67061055e-03]\n",
      " [-1.25563519e-02]\n",
      " [ 1.25158476e-01]\n",
      " [-1.25563519e-02]\n",
      " [-2.22773986e-03]\n",
      " [ 5.63010619e-02]\n",
      " [-2.63278347e-02]\n",
      " [ 7.00725447e-02]\n",
      " [-7.45280244e-02]\n",
      " [-2.28849640e-02]\n",
      " [-2.63278347e-02]\n",
      " [ 4.25295792e-02]\n",
      " [-2.97707054e-02]\n",
      " [-2.63278347e-02]\n",
      " [-4.69850589e-02]\n",
      " [-1.00923366e-01]\n",
      " [ 1.21513083e-03]\n",
      " [-4.00993175e-02]\n",
      " [ 1.15437429e-02]\n",
      " [-6.76422830e-02]\n",
      " [-1.94420933e-02]\n",
      " [-4.00993175e-02]\n",
      " [-5.38708003e-02]\n",
      " [ 9.76155103e-02]\n",
      " [-1.02070990e-01]\n",
      " [-1.25563519e-02]\n",
      " [-8.14137658e-02]\n",
      " [ 4.94153205e-02]\n",
      " [-2.51802112e-02]\n",
      " [-1.25563519e-02]\n",
      " [ 1.15437429e-02]\n",
      " [-2.28849640e-02]\n",
      " [ 6.31868033e-02]\n",
      " [-1.59992226e-02]\n",
      " [ 1.15437429e-02]\n",
      " [-2.22773986e-03]\n",
      " [-4.00993175e-02]\n",
      " [-4.35421882e-02]\n",
      " [-5.50184238e-02]\n",
      " [ 2.99057198e-02]\n",
      " [ 2.36275439e-03]\n",
      " [-2.28849640e-02]\n",
      " [-2.63278347e-02]\n",
      " [-2.63278347e-02]\n",
      " [ 6.31868033e-02]\n",
      " [ 6.31868033e-02]\n",
      " [-5.67061055e-03]\n",
      " [ 7.00725447e-02]\n",
      " [ 8.72868982e-02]\n",
      " [ 2.53152257e-02]\n",
      " [-2.22773986e-03]\n",
      " [ 1.15437429e-02]\n",
      " [ 2.18723550e-02]\n",
      " [ 2.18723550e-02]\n",
      " [-1.08011631e-03]\n",
      " [ 8.10087222e-03]\n",
      " [-2.22773986e-03]\n",
      " [-2.63278347e-02]\n",
      " [-1.25563519e-02]\n",
      " [-2.63278347e-02]\n",
      " [ 4.65800153e-03]\n",
      " [ 1.04501252e-01]\n",
      " [-6.76422830e-02]\n",
      " [-9.11348125e-03]\n",
      " [-4.00993175e-02]\n",
      " [-3.32135761e-02]\n",
      " [-3.66564468e-02]\n",
      " [-5.73136710e-02]\n",
      " [ 9.76155103e-02]\n",
      " [ 7.69582861e-02]\n",
      " [ 5.28581912e-02]\n",
      " [ 4.25295792e-02]\n",
      " [-4.69850589e-02]\n",
      " [ 3.90867085e-02]\n",
      " [-9.11348125e-03]\n",
      " [-1.59992226e-02]\n",
      " [ 6.31868033e-02]\n",
      " [ 1.21513083e-03]\n",
      " [-1.94420933e-02]\n",
      " [-1.94420933e-02]\n",
      " [-4.69850589e-02]\n",
      " [ 2.53152257e-02]\n",
      " [-5.67061055e-03]\n",
      " [ 7.00725447e-02]\n",
      " [ 6.31868033e-02]\n",
      " [-5.67061055e-03]\n",
      " [ 4.94153205e-02]\n",
      " [ 1.21513083e-03]\n",
      " [-1.82944698e-02]\n",
      " [-6.99375302e-02]\n",
      " [ 8.72868982e-02]\n",
      " [-7.45280244e-02]\n",
      " [ 7.00725447e-02]\n",
      " [-7.45280244e-02]\n",
      " [ 7.69582861e-02]\n",
      " [ 2.18723550e-02]\n",
      " [-4.69850589e-02]\n",
      " [-3.66564468e-02]\n",
      " [ 3.79390850e-02]\n",
      " [-2.22773986e-03]\n",
      " [ 4.94153205e-02]\n",
      " [-3.66564468e-02]\n",
      " [-9.86281193e-02]\n",
      " [ 8.10087222e-03]\n",
      " [-5.67061055e-03]\n",
      " [-4.35421882e-02]\n",
      " [-2.63278347e-02]\n",
      " [ 3.90867085e-02]\n",
      " [-2.51802112e-02]\n",
      " [-2.63278347e-02]\n",
      " [-1.25563519e-02]\n",
      " [ 3.56438378e-02]\n",
      " [-5.38708003e-02]\n",
      " [ 5.63010619e-02]\n",
      " [ 6.31868033e-02]\n",
      " [-2.28849640e-02]\n",
      " [ 8.10087222e-03]\n",
      " [-1.94420933e-02]\n",
      " [-2.63278347e-02]\n",
      " [ 4.94153205e-02]\n",
      " [ 1.21513083e-03]\n",
      " [ 2.87580964e-02]\n",
      " [-4.35421882e-02]\n",
      " [ 8.10087222e-03]\n",
      " [-6.41994123e-02]\n",
      " [ 3.22009671e-02]\n",
      " [ 1.49866136e-02]\n",
      " [-3.32135761e-02]\n",
      " [ 7.00725447e-02]\n",
      " [-2.63278347e-02]\n",
      " [ 3.44962143e-02]\n",
      " [-7.96585770e-03]\n",
      " [-1.59992226e-02]\n",
      " [ 3.56438378e-02]\n",
      " [ 5.28581912e-02]\n",
      " [ 2.87580964e-02]\n",
      " [ 1.49866136e-02]\n",
      " [-9.11348125e-03]\n",
      " [ 2.87580964e-02]\n",
      " [ 7.69582861e-02]\n",
      " [ 6.66296740e-02]\n",
      " [ 1.49866136e-02]\n",
      " [ 2.18723550e-02]\n",
      " [ 3.56438378e-02]\n",
      " [-2.28849640e-02]\n",
      " [-2.28849640e-02]\n",
      " [ 9.76155103e-02]\n",
      " [ 4.94153205e-02]\n",
      " [ 1.01058381e-01]\n",
      " [-4.00993175e-02]\n",
      " [-1.94420933e-02]\n",
      " [-5.67061055e-03]\n",
      " [-2.63278347e-02]\n",
      " [ 4.25295792e-02]\n",
      " [-6.41994123e-02]\n",
      " [-1.12399602e-01]\n",
      " [ 4.94153205e-02]\n",
      " [-2.63278347e-02]\n",
      " [ 5.74486854e-02]\n",
      " [-6.07565417e-02]\n",
      " [-2.97707054e-02]\n",
      " [-5.73136710e-02]\n",
      " [ 2.18723550e-02]\n",
      " [-1.14087284e-02]\n",
      " [-5.04279296e-02]\n",
      " [ 4.59724499e-02]\n",
      " [ 5.85963092e-02]\n",
      " [ 3.56438378e-02]\n",
      " [-6.87899066e-02]\n",
      " [ 5.97439326e-02]\n",
      " [-1.25563519e-02]\n",
      " [ 6.66296740e-02]\n",
      " [ 4.65800153e-03]\n",
      " [-2.28849640e-02]\n",
      " [ 1.15437429e-02]\n",
      " [-1.94420933e-02]\n",
      " [-2.97707054e-02]\n",
      " [-6.19041652e-02]\n",
      " [-4.00993175e-02]\n",
      " [ 5.97439326e-02]\n",
      " [ 5.28581912e-02]\n",
      " [ 7.35154154e-02]\n",
      " [ 8.72868982e-02]\n",
      " [-5.61660474e-02]\n",
      " [ 8.10087222e-03]\n",
      " [ 7.69582861e-02]\n",
      " [-5.67061055e-03]\n",
      " [-4.69850589e-02]\n",
      " [ 2.53152257e-02]\n",
      " [-4.23945646e-02]\n",
      " [ 4.25295792e-02]\n",
      " [-5.73136710e-02]\n",
      " [ 1.04501252e-01]\n",
      " [ 9.76155103e-02]\n",
      " [-4.69850589e-02]\n",
      " [-3.32135761e-02]\n",
      " [-1.71468462e-02]\n",
      " [ 1.15437429e-02]\n",
      " [-8.48566365e-02]\n",
      " [ 7.00725447e-02]\n",
      " [-2.63278347e-02]\n",
      " [ 8.38440275e-02]\n",
      " [ 4.25295792e-02]\n",
      " [-5.61660474e-02]\n",
      " [ 4.59724499e-02]\n",
      " [ 3.56438378e-02]\n",
      " [ 1.15437429e-02]\n",
      " [ 6.31868033e-02]\n",
      " [ 1.21513083e-03]\n",
      " [-8.48566365e-02]\n",
      " [ 4.65800153e-03]\n",
      " [ 3.90867085e-02]\n",
      " [-5.73136710e-02]\n",
      " [-5.67061055e-03]\n",
      " [-3.32135761e-02]\n",
      " [ 2.87580964e-02]\n",
      " [-1.59992226e-02]\n",
      " [-7.79708951e-02]\n",
      " [-1.59992226e-02]\n",
      " [ 2.18723550e-02]\n",
      " [-4.00993175e-02]\n",
      " [ 2.53152257e-02]\n",
      " [ 6.31868033e-02]\n",
      " [-3.20659526e-02]\n",
      " [ 1.26913665e-02]\n",
      " [-5.67061055e-03]\n",
      " [-4.00993175e-02]\n",
      " [-4.00993175e-02]\n",
      " [-6.41994123e-02]\n",
      " [-4.69850589e-02]\n",
      " [-1.59992226e-02]\n",
      " [-4.12469410e-02]\n",
      " [ 5.28581912e-02]\n",
      " [ 3.33485905e-02]\n",
      " [ 9.41726396e-02]\n",
      " [ 5.28581912e-02]\n",
      " [-4.00993175e-02]\n",
      " [ 2.18723550e-02]\n",
      " [ 4.65800153e-03]\n",
      " [-3.32135761e-02]\n",
      " [-2.22773986e-03]\n",
      " [ 3.56438378e-02]\n",
      " [-5.73136710e-02]\n",
      " [-5.67061055e-03]\n",
      " [ 5.28581912e-02]\n",
      " [-1.25563519e-02]\n",
      " [-5.38708003e-02]\n",
      " [ 1.21513083e-03]\n",
      " [ 5.51534385e-02]\n",
      " [ 2.53152257e-02]\n",
      " [ 4.59724499e-02]\n",
      " [-5.67061055e-03]\n",
      " [ 7.92535333e-02]\n",
      " [ 6.20391799e-02]\n",
      " [ 4.94153205e-02]\n",
      " [ 1.15437429e-02]\n",
      " [-6.64946595e-02]\n",
      " [-3.32135761e-02]\n",
      " [ 2.87580964e-02]\n",
      " [-6.07565417e-02]\n",
      " [-2.22773986e-03]\n",
      " [ 4.25295792e-02]\n",
      " [-3.66564468e-02]\n",
      " [ 7.69582861e-02]\n",
      " [ 2.87580964e-02]\n",
      " [-2.28849640e-02]\n",
      " [-1.25563519e-02]\n",
      " [-3.66564468e-02]\n",
      " [ 7.00725447e-02]\n",
      " [-3.32135761e-02]\n",
      " [-5.04279296e-02]\n",
      " [ 1.32044217e-01]\n",
      " [ 5.63010619e-02]\n",
      " [ 5.63010619e-02]\n",
      " [ 9.07297689e-02]\n",
      " [-4.00993175e-02]\n",
      " [-3.32135761e-02]\n",
      " [ 3.22009671e-02]\n",
      " [-7.45280244e-02]\n",
      " [-5.67061055e-03]\n",
      " [-4.35421882e-02]\n",
      " [ 1.07944122e-01]\n",
      " [-3.32135761e-02]\n",
      " [-4.69850589e-02]\n",
      " [-3.66564468e-02]\n",
      " [ 2.18723550e-02]\n",
      " [ 1.49866136e-02]\n",
      " [-1.59992226e-02]\n",
      " [ 1.84294843e-02]\n",
      " [-2.63278347e-02]\n",
      " [ 3.22009671e-02]\n",
      " [ 2.18723550e-02]\n",
      " [ 2.87580964e-02]\n",
      " [ 7.00725447e-02]\n",
      " [ 6.75072794e-05]\n",
      " [-1.94420933e-02]\n",
      " [-1.25563519e-02]\n",
      " [-1.59992226e-02]\n",
      " [ 1.49866136e-02]\n",
      " [ 1.49866136e-02]\n",
      " [-4.00993175e-02]\n",
      " [-5.73136710e-02]\n",
      " [ 4.94153205e-02]\n",
      " [-1.59992226e-02]\n",
      " [-5.67061055e-03]\n",
      " [-6.76422830e-02]\n",
      " [ 1.07944122e-01]\n",
      " [-5.67061055e-03]\n",
      " [ 1.84294843e-02]\n",
      " [-5.67061055e-03]\n",
      " [ 2.18723550e-02]\n",
      " [ 5.85963092e-02]\n",
      " [-7.45280244e-02]\n",
      " [-2.28849640e-02]\n",
      " [-9.11348125e-03]\n",
      " [ 4.65800153e-03]\n",
      " [ 4.94153205e-02]\n",
      " [-1.59992226e-02]\n",
      " [-7.45280244e-02]\n",
      " [ 5.63010619e-02]\n",
      " [-8.48566365e-02]\n",
      " [ 5.97439326e-02]\n",
      " [-6.41994123e-02]\n",
      " [-2.22773986e-03]\n",
      " [-4.35421882e-02]\n",
      " [ 5.63010619e-02]\n",
      " [-2.97707054e-02]\n",
      " [-2.28849640e-02]\n",
      " [-3.09183290e-02]\n",
      " [-3.32135761e-02]\n",
      " [ 4.94153205e-02]\n",
      " [ 9.07297689e-02]\n",
      " [-5.73136710e-02]\n",
      " [-2.28849640e-02]\n",
      " [-5.67061055e-03]\n",
      " [ 7.00725447e-02]\n",
      " [ 8.38440275e-02]\n",
      " [-8.48566365e-02]\n",
      " [-5.27231767e-02]\n",
      " [ 1.07944122e-01]\n",
      " [ 5.63010619e-02]\n",
      " [ 8.10087222e-03]\n",
      " [-4.35421882e-02]\n",
      " [ 6.31868033e-02]\n",
      " [-2.63278347e-02]\n",
      " [-4.52298700e-03]\n",
      " [-5.04279296e-02]\n",
      " [ 9.87631337e-02]\n",
      " [-7.45280244e-02]\n",
      " [-2.63278347e-02]\n",
      " [-5.38708003e-02]\n",
      " [ 6.75072794e-05]\n",
      " [ 2.18723550e-02]\n",
      " [ 5.28581912e-02]\n",
      " [ 2.87580964e-02]\n",
      " [-1.94420933e-02]\n",
      " [-8.14137658e-02]\n",
      " [ 4.36772026e-02]\n",
      " [-5.67061055e-03]\n",
      " [ 8.72868982e-02]\n",
      " [-2.28849640e-02]\n",
      " [-5.04279296e-02]\n",
      " [ 2.18723550e-02]\n",
      " [-5.67061055e-03]\n",
      " [-2.97707054e-02]\n",
      " [ 8.10087222e-03]\n",
      " [-4.00993175e-02]\n",
      " [-5.04279296e-02]\n",
      " [ 5.97439326e-02]\n",
      " [-6.76422830e-02]\n",
      " [ 1.72818607e-02]\n",
      " [ 1.21513083e-03]\n",
      " [-8.14137658e-02]]\n"
     ]
    }
   ],
   "source": [
    "X=diab.data[:,np.newaxis,3]#gives data of third feature in array \n",
    "print(X)"
   ]
  },
  {
   "cell_type": "code",
   "execution_count": 6,
   "id": "fresh-crown",
   "metadata": {},
   "outputs": [
    {
     "name": "stdout",
     "output_type": "stream",
     "text": [
      "[[ 0.02187235]\n",
      " [-0.02632783]\n",
      " [-0.00567061]\n",
      " [-0.03665645]\n",
      " [ 0.02187235]\n",
      " [-0.01944209]\n",
      " [-0.01599922]\n",
      " [ 0.06662967]\n",
      " [-0.04009932]\n",
      " [-0.03321358]\n",
      " [ 0.00810087]\n",
      " [-0.03321358]\n",
      " [-0.00911348]\n",
      " [ 0.00810087]\n",
      " [-0.01255635]\n",
      " [ 0.08040116]\n",
      " [ 0.04941532]\n",
      " [ 0.05630106]\n",
      " [-0.03665645]\n",
      " [-0.04009932]\n",
      " [-0.04354219]\n",
      " [ 0.00121513]\n",
      " [-0.00911348]\n",
      " [ 0.03105334]\n",
      " [-0.02288496]\n",
      " [-0.04009932]\n",
      " [-0.02632783]\n",
      " [-0.04009932]\n",
      " [-0.07452802]\n",
      " [ 0.0631868 ]]\n"
     ]
    }
   ],
   "source": [
    "X_train=X[:30]#to train we took first 30 \n",
    "X_test=X[40:70]#to test we took 40 to 70\n",
    "print(X_train)\n"
   ]
  },
  {
   "cell_type": "code",
   "execution_count": 7,
   "id": "guilty-basic",
   "metadata": {},
   "outputs": [
    {
     "name": "stdout",
     "output_type": "stream",
     "text": [
      "[[ 0.02187235]\n",
      " [-0.10895673]\n",
      " [-0.0148516 ]\n",
      " [-0.07108515]\n",
      " [ 0.00810087]\n",
      " [ 0.03220097]\n",
      " [-0.03321358]\n",
      " [-0.05731367]\n",
      " [ 0.01154374]\n",
      " [-0.00567061]\n",
      " [ 0.01498661]\n",
      " [ 0.0287581 ]\n",
      " [-0.00567061]\n",
      " [ 0.07007254]\n",
      " [ 0.00810087]\n",
      " [-0.03665645]\n",
      " [-0.02632783]\n",
      " [-0.05042793]\n",
      " [ 0.03564384]\n",
      " [ 0.01154374]\n",
      " [-0.04009932]\n",
      " [-0.0538708 ]\n",
      " [-0.04009932]\n",
      " [-0.06075654]\n",
      " [-0.04009932]\n",
      " [ 0.05974393]\n",
      " [-0.03321358]\n",
      " [-0.01714685]\n",
      " [-0.04009932]\n",
      " [-0.00567061]]\n"
     ]
    }
   ],
   "source": [
    "print(X_test)"
   ]
  },
  {
   "cell_type": "code",
   "execution_count": 8,
   "id": "sought-imperial",
   "metadata": {},
   "outputs": [],
   "source": [
    "Y_train=diab.target[:30]\n",
    "Y_test=diab.target[40:70]"
   ]
  },
  {
   "cell_type": "markdown",
   "id": "offshore-format",
   "metadata": {},
   "source": [
    "***GENERATING MODEL***"
   ]
  },
  {
   "cell_type": "code",
   "execution_count": 9,
   "id": "living-clarity",
   "metadata": {},
   "outputs": [],
   "source": [
    "model=linear_model.LinearRegression()"
   ]
  },
  {
   "cell_type": "code",
   "execution_count": 10,
   "id": "noted-craps",
   "metadata": {},
   "outputs": [
    {
     "data": {
      "text/plain": [
       "LinearRegression()"
      ]
     },
     "execution_count": 10,
     "metadata": {},
     "output_type": "execute_result"
    }
   ],
   "source": [
    "model.fit(X_train,Y_train)#training"
   ]
  },
  {
   "cell_type": "code",
   "execution_count": 11,
   "id": "angry-tourism",
   "metadata": {},
   "outputs": [],
   "source": [
    "Y_predict=model.predict(X_test)\n",
    "#we are now predicting by inserting our test data through predict so thats why we only inputed X_test"
   ]
  },
  {
   "cell_type": "code",
   "execution_count": 12,
   "id": "satisfied-fisher",
   "metadata": {},
   "outputs": [
    {
     "name": "stdout",
     "output_type": "stream",
     "text": [
      "[150.86364781 110.68074862 139.58423751 122.31264049 146.63386895\n",
      " 154.03598196 133.94453236 126.54241935 147.69131367 142.40409009\n",
      " 148.74875838 152.97853725 142.40409009 165.66787383 146.63386895\n",
      " 132.88708765 136.0594218  128.65730879 155.09342668 147.69131367\n",
      " 131.82964293 127.59986407 131.82964293 125.48497464 131.82964293\n",
      " 162.49553969 133.94453236 138.87927437 131.82964293 142.40409009]\n"
     ]
    }
   ],
   "source": [
    "print(Y_predict)"
   ]
  },
  {
   "cell_type": "code",
   "execution_count": 13,
   "id": "average-jonathan",
   "metadata": {},
   "outputs": [
    {
     "data": {
      "text/plain": [
       "3238.8720351470706"
      ]
     },
     "execution_count": 13,
     "metadata": {},
     "output_type": "execute_result"
    }
   ],
   "source": [
    "mean_squared_error(Y_test,Y_predict)#in mean sq error our first argument is test and second is predicted"
   ]
  },
  {
   "cell_type": "markdown",
   "id": "smart-fabric",
   "metadata": {},
   "source": [
    "# PROOF/METHOD HOW IT IS CALCULATED"
   ]
  },
  {
   "cell_type": "code",
   "execution_count": 14,
   "id": "native-notification",
   "metadata": {},
   "outputs": [
    {
     "name": "stdout",
     "output_type": "stream",
     "text": [
      "[ -50.86364781  -55.68074862  -78.58423751  -30.31264049  112.36613105\n",
      " -101.03598196   56.05546764   15.45758065  -72.69131367   -0.40409009\n",
      "    6.25124162   72.02146275  -83.40409009  -61.66787383   35.36613105\n",
      "   -4.88708765  -84.0594218   -91.65730879   14.90657332   22.30868633\n",
      "  -70.82964293   16.40013593  -79.82964293    2.51502536  -60.82964293\n",
      "    0.50446031   16.05546764  -41.87927437   28.17035707   35.59590991]\n"
     ]
    }
   ],
   "source": [
    "raw=np.array(Y_test)-np.array(Y_predict)\n",
    "print(raw)"
   ]
  },
  {
   "cell_type": "code",
   "execution_count": 15,
   "id": "missing-occurrence",
   "metadata": {},
   "outputs": [
    {
     "name": "stdout",
     "output_type": "stream",
     "text": [
      "[2.58711067e+03 3.10034577e+03 6.17548239e+03 9.18856174e+02\n",
      " 1.26261474e+04 1.02082697e+04 3.14221545e+03 2.38936799e+02\n",
      " 5.28402708e+03 1.63288800e-01 3.90780218e+01 5.18709110e+03\n",
      " 6.95624224e+03 3.80292666e+03 1.25076323e+03 2.38836257e+01\n",
      " 7.06598639e+03 8.40106225e+03 2.22205928e+02 4.97677486e+02\n",
      " 5.01683832e+03 2.68964459e+02 6.37277189e+03 6.32535257e+00\n",
      " 3.70024546e+03 2.54480208e-01 2.57778041e+02 1.75387362e+03\n",
      " 7.93569017e+02 1.26706880e+03]\n"
     ]
    }
   ],
   "source": [
    "squared=np.square(raw)\n",
    "print(squared)"
   ]
  },
  {
   "cell_type": "code",
   "execution_count": 16,
   "id": "injured-circus",
   "metadata": {},
   "outputs": [
    {
     "data": {
      "text/plain": [
       "3238.8720351470706"
      ]
     },
     "execution_count": 16,
     "metadata": {},
     "output_type": "execute_result"
    }
   ],
   "source": [
    "sqaveraged=np.average(squared)\n",
    "sqaveraged"
   ]
  },
  {
   "cell_type": "markdown",
   "id": "domestic-optics",
   "metadata": {},
   "source": [
    "***wieghts***\n"
   ]
  },
  {
   "cell_type": "code",
   "execution_count": 17,
   "id": "frozen-chick",
   "metadata": {},
   "outputs": [
    {
     "data": {
      "text/plain": [
       "array([307.14040976])"
      ]
     },
     "execution_count": 17,
     "metadata": {},
     "output_type": "execute_result"
    }
   ],
   "source": [
    "weights=model.coef_\n",
    "weights#will show only one weight as only one feature is taken"
   ]
  },
  {
   "cell_type": "markdown",
   "id": "independent-familiar",
   "metadata": {},
   "source": [
    "***intercepts***"
   ]
  },
  {
   "cell_type": "code",
   "execution_count": 18,
   "id": "unnecessary-walker",
   "metadata": {},
   "outputs": [
    {
     "data": {
      "text/plain": [
       "144.14576373859242"
      ]
     },
     "execution_count": 18,
     "metadata": {},
     "output_type": "execute_result"
    }
   ],
   "source": [
    "intercept=model.intercept_\n",
    "intercept"
   ]
  },
  {
   "cell_type": "code",
   "execution_count": 19,
   "id": "final-child",
   "metadata": {},
   "outputs": [
    {
     "data": {
      "image/png": "[encoded data removed]",
      "text/plain": [
       "<Figure size 432x288 with 1 Axes>"
      ]
     },
     "metadata": {
      "needs_background": "light"
     },
     "output_type": "display_data"
    }
   ],
   "source": [
    "plt.scatter(X_test,Y_test)\n",
    "plot_pred=plt.plot(X_test,Y_predict)\n",
    "plt.grid()\n"
   ]
  },
  {
   "cell_type": "code",
   "execution_count": null,
   "id": "normal-arrest",
   "metadata": {},
   "outputs": [],
   "source": []
  }
 ],
 "metadata": {
  "kernelspec": {
   "display_name": "Python 3",
   "language": "python",
   "name": "python3"
  },
  "language_info": {
   "codemirror_mode": {
    "name": "ipython",
    "version": 3
   },
   "file_extension": ".py",
   "mimetype": "text/x-python",
   "name": "python",
   "nbconvert_exporter": "python",
   "pygments_lexer": "ipython3",
   "version": "3.9.1"
  }
 },
 "nbformat": 4,
 "nbformat_minor": 5
}
